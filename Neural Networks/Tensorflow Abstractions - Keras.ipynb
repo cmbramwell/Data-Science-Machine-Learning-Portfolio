{
 "cells": [
  {
   "cell_type": "markdown",
   "metadata": {},
   "source": [
    "# Tensorflow Abstractions - Keras"
   ]
  },
  {
   "cell_type": "markdown",
   "metadata": {},
   "source": [
    "## Import Libraries"
   ]
  },
  {
   "cell_type": "code",
   "execution_count": 1,
   "metadata": {},
   "outputs": [],
   "source": [
    "from sklearn.datasets import load_wine\n",
    "from sklearn.model_selection import train_test_split\n",
    "from sklearn.preprocessing import MinMaxScaler\n",
    "\n",
    "import tensorflow as tf"
   ]
  },
  {
   "cell_type": "markdown",
   "metadata": {},
   "source": [
    "## Load Data"
   ]
  },
  {
   "cell_type": "code",
   "execution_count": 2,
   "metadata": {},
   "outputs": [],
   "source": [
    "wine_data = load_wine()"
   ]
  },
  {
   "cell_type": "code",
   "execution_count": 3,
   "metadata": {},
   "outputs": [
    {
     "data": {
      "text/plain": [
       "dict_keys(['data', 'target', 'target_names', 'DESCR', 'feature_names'])"
      ]
     },
     "execution_count": 3,
     "metadata": {},
     "output_type": "execute_result"
    }
   ],
   "source": [
    "wine_data.keys()"
   ]
  },
  {
   "cell_type": "code",
   "execution_count": 4,
   "metadata": {},
   "outputs": [
    {
     "name": "stdout",
     "output_type": "stream",
     "text": [
      "Wine Data Database\n",
      "====================\n",
      "\n",
      "Notes\n",
      "-----\n",
      "Data Set Characteristics:\n",
      "    :Number of Instances: 178 (50 in each of three classes)\n",
      "    :Number of Attributes: 13 numeric, predictive attributes and the class\n",
      "    :Attribute Information:\n",
      " \t\t- 1) Alcohol\n",
      " \t\t- 2) Malic acid\n",
      " \t\t- 3) Ash\n",
      "\t\t- 4) Alcalinity of ash  \n",
      " \t\t- 5) Magnesium\n",
      "\t\t- 6) Total phenols\n",
      " \t\t- 7) Flavanoids\n",
      " \t\t- 8) Nonflavanoid phenols\n",
      " \t\t- 9) Proanthocyanins\n",
      "\t\t- 10)Color intensity\n",
      " \t\t- 11)Hue\n",
      " \t\t- 12)OD280/OD315 of diluted wines\n",
      " \t\t- 13)Proline\n",
      "        \t- class:\n",
      "                - class_0\n",
      "                - class_1\n",
      "                - class_2\n",
      "\t\t\n",
      "    :Summary Statistics:\n",
      "    \n",
      "    ============================= ==== ===== ======= =====\n",
      "                                   Min   Max   Mean     SD\n",
      "    ============================= ==== ===== ======= =====\n",
      "    Alcohol:                      11.0  14.8    13.0   0.8\n",
      "    Malic Acid:                   0.74  5.80    2.34  1.12\n",
      "    Ash:                          1.36  3.23    2.36  0.27\n",
      "    Alcalinity of Ash:            10.6  30.0    19.5   3.3\n",
      "    Magnesium:                    70.0 162.0    99.7  14.3\n",
      "    Total Phenols:                0.98  3.88    2.29  0.63\n",
      "    Flavanoids:                   0.34  5.08    2.03  1.00\n",
      "    Nonflavanoid Phenols:         0.13  0.66    0.36  0.12\n",
      "    Proanthocyanins:              0.41  3.58    1.59  0.57\n",
      "    Colour Intensity:              1.3  13.0     5.1   2.3\n",
      "    Hue:                          0.48  1.71    0.96  0.23\n",
      "    OD280/OD315 of diluted wines: 1.27  4.00    2.61  0.71\n",
      "    Proline:                       278  1680     746   315\n",
      "    ============================= ==== ===== ======= =====\n",
      "\n",
      "    :Missing Attribute Values: None\n",
      "    :Class Distribution: class_0 (59), class_1 (71), class_2 (48)\n",
      "    :Creator: R.A. Fisher\n",
      "    :Donor: Michael Marshall (MARSHALL%PLU@io.arc.nasa.gov)\n",
      "    :Date: July, 1988\n",
      "\n",
      "This is a copy of UCI ML Wine recognition datasets.\n",
      "https://archive.ics.uci.edu/ml/machine-learning-databases/wine/wine.data\n",
      "\n",
      "The data is the results of a chemical analysis of wines grown in the same\n",
      "region in Italy by three different cultivators. There are thirteen different\n",
      "measurements taken for different constituents found in the three types of\n",
      "wine.\n",
      "\n",
      "Original Owners: \n",
      "\n",
      "Forina, M. et al, PARVUS - \n",
      "An Extendible Package for Data Exploration, Classification and Correlation. \n",
      "Institute of Pharmaceutical and Food Analysis and Technologies,\n",
      "Via Brigata Salerno, 16147 Genoa, Italy.\n",
      "\n",
      "Citation:\n",
      "\n",
      "Lichman, M. (2013). UCI Machine Learning Repository\n",
      "[http://archive.ics.uci.edu/ml]. Irvine, CA: University of California,\n",
      "School of Information and Computer Science. \n",
      "\n",
      "References\n",
      "----------\n",
      "(1) \n",
      "S. Aeberhard, D. Coomans and O. de Vel, \n",
      "Comparison of Classifiers in High Dimensional Settings, \n",
      "Tech. Rep. no. 92-02, (1992), Dept. of Computer Science and Dept. of \n",
      "Mathematics and Statistics, James Cook University of North Queensland. \n",
      "(Also submitted to Technometrics). \n",
      "\n",
      "The data was used with many others for comparing various \n",
      "classifiers. The classes are separable, though only RDA \n",
      "has achieved 100% correct classification. \n",
      "(RDA : 100%, QDA 99.4%, LDA 98.9%, 1NN 96.1% (z-transformed data)) \n",
      "(All results using the leave-one-out technique) \n",
      "\n",
      "(2) \n",
      "S. Aeberhard, D. Coomans and O. de Vel, \n",
      "\"THE CLASSIFICATION PERFORMANCE OF RDA\" \n",
      "Tech. Rep. no. 92-01, (1992), Dept. of Computer Science and Dept. of \n",
      "Mathematics and Statistics, James Cook University of North Queensland. \n",
      "(Also submitted to Journal of Chemometrics). \n",
      "\n"
     ]
    }
   ],
   "source": [
    "print(wine_data[\"DESCR\"])"
   ]
  },
  {
   "cell_type": "markdown",
   "metadata": {},
   "source": [
    "## Preprocess Data"
   ]
  },
  {
   "cell_type": "code",
   "execution_count": 5,
   "metadata": {},
   "outputs": [],
   "source": [
    "feat_data = wine_data[\"data\"]"
   ]
  },
  {
   "cell_type": "code",
   "execution_count": 6,
   "metadata": {},
   "outputs": [],
   "source": [
    "labels = wine_data[\"target\"]"
   ]
  },
  {
   "cell_type": "code",
   "execution_count": 7,
   "metadata": {},
   "outputs": [],
   "source": [
    "X_train, X_test, y_train, y_test = train_test_split(feat_data, labels, test_size=0.30, random_state=101)"
   ]
  },
  {
   "cell_type": "code",
   "execution_count": 8,
   "metadata": {},
   "outputs": [],
   "source": [
    "scaler = MinMaxScaler()"
   ]
  },
  {
   "cell_type": "code",
   "execution_count": 9,
   "metadata": {},
   "outputs": [],
   "source": [
    "X_train_scaled = scaler.fit_transform(X_train)\n",
    "X_test_scaled = scaler.transform(X_test)"
   ]
  },
  {
   "cell_type": "markdown",
   "metadata": {},
   "source": [
    "## Keras"
   ]
  },
  {
   "cell_type": "code",
   "execution_count": 10,
   "metadata": {},
   "outputs": [
    {
     "name": "stdout",
     "output_type": "stream",
     "text": [
      "WARNING:tensorflow:From /Applications/anaconda3/envs/tfdeeplearning/lib/python3.6/site-packages/tensorflow/contrib/learn/python/learn/datasets/base.py:198: retry (from tensorflow.contrib.learn.python.learn.datasets.base) is deprecated and will be removed in a future version.\n",
      "Instructions for updating:\n",
      "Use the retry module or similar alternatives.\n"
     ]
    }
   ],
   "source": [
    "from tensorflow.contrib.keras import models\n",
    "from tensorflow.contrib.keras import layers\n",
    "from tensorflow.contrib.keras import losses, optimizers, metrics, activations"
   ]
  },
  {
   "cell_type": "code",
   "execution_count": 11,
   "metadata": {},
   "outputs": [],
   "source": [
    "dnn_keras_model = models.Sequential()"
   ]
  },
  {
   "cell_type": "code",
   "execution_count": 12,
   "metadata": {},
   "outputs": [],
   "source": [
    "dnn_keras_model.add(layers.Dense(units=13, input_dim=13, activation=\"relu\"))"
   ]
  },
  {
   "cell_type": "code",
   "execution_count": 13,
   "metadata": {},
   "outputs": [],
   "source": [
    "dnn_keras_model.add(layers.Dense(units=13, activation=\"relu\"))\n",
    "dnn_keras_model.add(layers.Dense(units=13, activation=\"relu\"))"
   ]
  },
  {
   "cell_type": "code",
   "execution_count": 14,
   "metadata": {},
   "outputs": [],
   "source": [
    "dnn_keras_model.add(layers.Dense(units=3, activation=\"softmax\"))"
   ]
  },
  {
   "cell_type": "code",
   "execution_count": 15,
   "metadata": {},
   "outputs": [],
   "source": [
    "dnn_keras_model.compile(optimizer=\"adam\", \n",
    "                        loss=\"sparse_categorical_crossentropy\", \n",
    "                        metrics=[\"accuracy\"])"
   ]
  },
  {
   "cell_type": "code",
   "execution_count": 16,
   "metadata": {},
   "outputs": [
    {
     "name": "stdout",
     "output_type": "stream",
     "text": [
      "Epoch 1/100\n",
      "124/124 [==============================] - 0s 2ms/step - loss: 1.0860 - acc: 0.2984\n",
      "Epoch 2/100\n",
      "124/124 [==============================] - 0s 52us/step - loss: 1.0790 - acc: 0.3468\n",
      "Epoch 3/100\n",
      "124/124 [==============================] - 0s 54us/step - loss: 1.0710 - acc: 0.3871\n",
      "Epoch 4/100\n",
      "124/124 [==============================] - 0s 61us/step - loss: 1.0638 - acc: 0.4677\n",
      "Epoch 5/100\n",
      "124/124 [==============================] - 0s 53us/step - loss: 1.0550 - acc: 0.5565\n",
      "Epoch 6/100\n",
      "124/124 [==============================] - 0s 52us/step - loss: 1.0456 - acc: 0.6532\n",
      "Epoch 7/100\n",
      "124/124 [==============================] - 0s 59us/step - loss: 1.0351 - acc: 0.7016\n",
      "Epoch 8/100\n",
      "124/124 [==============================] - 0s 61us/step - loss: 1.0235 - acc: 0.7016\n",
      "Epoch 9/100\n",
      "124/124 [==============================] - 0s 54us/step - loss: 1.0117 - acc: 0.7339\n",
      "Epoch 10/100\n",
      "124/124 [==============================] - 0s 50us/step - loss: 0.9977 - acc: 0.7581\n",
      "Epoch 11/100\n",
      "124/124 [==============================] - 0s 54us/step - loss: 0.9824 - acc: 0.7500\n",
      "Epoch 12/100\n",
      "124/124 [==============================] - 0s 50us/step - loss: 0.9659 - acc: 0.7500\n",
      "Epoch 13/100\n",
      "124/124 [==============================] - 0s 60us/step - loss: 0.9487 - acc: 0.7742\n",
      "Epoch 14/100\n",
      "124/124 [==============================] - 0s 62us/step - loss: 0.9305 - acc: 0.8145\n",
      "Epoch 15/100\n",
      "124/124 [==============================] - 0s 58us/step - loss: 0.9103 - acc: 0.8468\n",
      "Epoch 16/100\n",
      "124/124 [==============================] - 0s 65us/step - loss: 0.8902 - acc: 0.8387\n",
      "Epoch 17/100\n",
      "124/124 [==============================] - 0s 65us/step - loss: 0.8690 - acc: 0.8710\n",
      "Epoch 18/100\n",
      "124/124 [==============================] - 0s 54us/step - loss: 0.8460 - acc: 0.8790\n",
      "Epoch 19/100\n",
      "124/124 [==============================] - 0s 59us/step - loss: 0.8227 - acc: 0.8871\n",
      "Epoch 20/100\n",
      "124/124 [==============================] - 0s 64us/step - loss: 0.7978 - acc: 0.8871\n",
      "Epoch 21/100\n",
      "124/124 [==============================] - 0s 60us/step - loss: 0.7704 - acc: 0.9032\n",
      "Epoch 22/100\n",
      "124/124 [==============================] - 0s 61us/step - loss: 0.7421 - acc: 0.9194\n",
      "Epoch 23/100\n",
      "124/124 [==============================] - 0s 55us/step - loss: 0.7140 - acc: 0.9274\n",
      "Epoch 24/100\n",
      "124/124 [==============================] - 0s 59us/step - loss: 0.6841 - acc: 0.9516\n",
      "Epoch 25/100\n",
      "124/124 [==============================] - 0s 57us/step - loss: 0.6527 - acc: 0.9516\n",
      "Epoch 26/100\n",
      "124/124 [==============================] - 0s 63us/step - loss: 0.6219 - acc: 0.9435\n",
      "Epoch 27/100\n",
      "124/124 [==============================] - 0s 53us/step - loss: 0.5899 - acc: 0.9597\n",
      "Epoch 28/100\n",
      "124/124 [==============================] - 0s 62us/step - loss: 0.5585 - acc: 0.9597\n",
      "Epoch 29/100\n",
      "124/124 [==============================] - 0s 63us/step - loss: 0.5266 - acc: 0.9597\n",
      "Epoch 30/100\n",
      "124/124 [==============================] - 0s 55us/step - loss: 0.4962 - acc: 0.9516\n",
      "Epoch 31/100\n",
      "124/124 [==============================] - 0s 54us/step - loss: 0.4669 - acc: 0.9516\n",
      "Epoch 32/100\n",
      "124/124 [==============================] - 0s 68us/step - loss: 0.4360 - acc: 0.9516\n",
      "Epoch 33/100\n",
      "124/124 [==============================] - 0s 64us/step - loss: 0.4085 - acc: 0.9597\n",
      "Epoch 34/100\n",
      "124/124 [==============================] - 0s 65us/step - loss: 0.3831 - acc: 0.9677\n",
      "Epoch 35/100\n",
      "124/124 [==============================] - 0s 55us/step - loss: 0.3598 - acc: 0.9597\n",
      "Epoch 36/100\n",
      "124/124 [==============================] - 0s 61us/step - loss: 0.3360 - acc: 0.9516\n",
      "Epoch 37/100\n",
      "124/124 [==============================] - 0s 62us/step - loss: 0.3151 - acc: 0.9516\n",
      "Epoch 38/100\n",
      "124/124 [==============================] - 0s 62us/step - loss: 0.2956 - acc: 0.9516\n",
      "Epoch 39/100\n",
      "124/124 [==============================] - 0s 58us/step - loss: 0.2781 - acc: 0.9677\n",
      "Epoch 40/100\n",
      "124/124 [==============================] - 0s 70us/step - loss: 0.2614 - acc: 0.9597\n",
      "Epoch 41/100\n",
      "124/124 [==============================] - 0s 56us/step - loss: 0.2468 - acc: 0.9516\n",
      "Epoch 42/100\n",
      "124/124 [==============================] - 0s 60us/step - loss: 0.2324 - acc: 0.9516\n",
      "Epoch 43/100\n",
      "124/124 [==============================] - 0s 62us/step - loss: 0.2211 - acc: 0.9597\n",
      "Epoch 44/100\n",
      "124/124 [==============================] - 0s 66us/step - loss: 0.2092 - acc: 0.9758\n",
      "Epoch 45/100\n",
      "124/124 [==============================] - 0s 64us/step - loss: 0.1983 - acc: 0.9758\n",
      "Epoch 46/100\n",
      "124/124 [==============================] - 0s 62us/step - loss: 0.1879 - acc: 0.9677\n",
      "Epoch 47/100\n",
      "124/124 [==============================] - 0s 61us/step - loss: 0.1793 - acc: 0.9597\n",
      "Epoch 48/100\n",
      "124/124 [==============================] - 0s 56us/step - loss: 0.1708 - acc: 0.9677\n",
      "Epoch 49/100\n",
      "124/124 [==============================] - 0s 61us/step - loss: 0.1627 - acc: 0.9758\n",
      "Epoch 50/100\n",
      "124/124 [==============================] - 0s 51us/step - loss: 0.1574 - acc: 0.9839\n",
      "Epoch 51/100\n",
      "124/124 [==============================] - 0s 62us/step - loss: 0.1512 - acc: 0.9758\n",
      "Epoch 52/100\n",
      "124/124 [==============================] - 0s 61us/step - loss: 0.1434 - acc: 0.9839\n",
      "Epoch 53/100\n",
      "124/124 [==============================] - 0s 77us/step - loss: 0.1379 - acc: 0.9758\n",
      "Epoch 54/100\n",
      "124/124 [==============================] - 0s 62us/step - loss: 0.1330 - acc: 0.9758\n",
      "Epoch 55/100\n",
      "124/124 [==============================] - 0s 73us/step - loss: 0.1277 - acc: 0.9839\n",
      "Epoch 56/100\n",
      "124/124 [==============================] - 0s 63us/step - loss: 0.1234 - acc: 0.9839\n",
      "Epoch 57/100\n",
      "124/124 [==============================] - 0s 54us/step - loss: 0.1189 - acc: 0.9839\n",
      "Epoch 58/100\n",
      "124/124 [==============================] - 0s 59us/step - loss: 0.1149 - acc: 0.9839\n",
      "Epoch 59/100\n",
      "124/124 [==============================] - 0s 60us/step - loss: 0.1112 - acc: 0.9839\n",
      "Epoch 60/100\n",
      "124/124 [==============================] - 0s 58us/step - loss: 0.1082 - acc: 0.9919\n",
      "Epoch 61/100\n",
      "124/124 [==============================] - 0s 66us/step - loss: 0.1051 - acc: 0.9839\n",
      "Epoch 62/100\n",
      "124/124 [==============================] - 0s 55us/step - loss: 0.1011 - acc: 0.9839\n",
      "Epoch 63/100\n",
      "124/124 [==============================] - 0s 62us/step - loss: 0.0978 - acc: 0.9919\n",
      "Epoch 64/100\n",
      "124/124 [==============================] - 0s 61us/step - loss: 0.0951 - acc: 0.9919\n",
      "Epoch 65/100\n",
      "124/124 [==============================] - 0s 66us/step - loss: 0.0926 - acc: 0.9919\n",
      "Epoch 66/100\n",
      "124/124 [==============================] - 0s 56us/step - loss: 0.0896 - acc: 0.9919\n",
      "Epoch 67/100\n",
      "124/124 [==============================] - 0s 69us/step - loss: 0.0869 - acc: 0.9919\n",
      "Epoch 68/100\n",
      "124/124 [==============================] - 0s 69us/step - loss: 0.0857 - acc: 0.9919\n",
      "Epoch 69/100\n",
      "124/124 [==============================] - 0s 63us/step - loss: 0.0824 - acc: 0.9919\n",
      "Epoch 70/100\n",
      "124/124 [==============================] - 0s 63us/step - loss: 0.0800 - acc: 0.9919\n",
      "Epoch 71/100\n",
      "124/124 [==============================] - 0s 56us/step - loss: 0.0786 - acc: 0.9919\n",
      "Epoch 72/100\n",
      "124/124 [==============================] - 0s 69us/step - loss: 0.0763 - acc: 0.9919\n",
      "Epoch 73/100\n",
      "124/124 [==============================] - 0s 57us/step - loss: 0.0753 - acc: 0.9919\n",
      "Epoch 74/100\n",
      "124/124 [==============================] - 0s 66us/step - loss: 0.0731 - acc: 0.9919\n",
      "Epoch 75/100\n",
      "124/124 [==============================] - 0s 58us/step - loss: 0.0706 - acc: 0.9919\n",
      "Epoch 76/100\n",
      "124/124 [==============================] - 0s 63us/step - loss: 0.0689 - acc: 0.9919\n",
      "Epoch 77/100\n",
      "124/124 [==============================] - 0s 68us/step - loss: 0.0681 - acc: 0.9919\n",
      "Epoch 78/100\n",
      "124/124 [==============================] - 0s 69us/step - loss: 0.0661 - acc: 0.9919\n",
      "Epoch 79/100\n",
      "124/124 [==============================] - 0s 65us/step - loss: 0.0644 - acc: 0.9919\n",
      "Epoch 80/100\n",
      "124/124 [==============================] - 0s 80us/step - loss: 0.0631 - acc: 0.9919\n",
      "Epoch 81/100\n",
      "124/124 [==============================] - 0s 62us/step - loss: 0.0616 - acc: 0.9919\n",
      "Epoch 82/100\n",
      "124/124 [==============================] - 0s 70us/step - loss: 0.0604 - acc: 0.9919\n",
      "Epoch 83/100\n",
      "124/124 [==============================] - 0s 61us/step - loss: 0.0590 - acc: 0.9919\n",
      "Epoch 84/100\n"
     ]
    },
    {
     "name": "stdout",
     "output_type": "stream",
     "text": [
      "124/124 [==============================] - 0s 59us/step - loss: 0.0575 - acc: 0.9919\n",
      "Epoch 85/100\n",
      "124/124 [==============================] - 0s 64us/step - loss: 0.0566 - acc: 0.9919\n",
      "Epoch 86/100\n",
      "124/124 [==============================] - 0s 59us/step - loss: 0.0559 - acc: 0.9919\n",
      "Epoch 87/100\n",
      "124/124 [==============================] - 0s 65us/step - loss: 0.0556 - acc: 0.9919\n",
      "Epoch 88/100\n",
      "124/124 [==============================] - 0s 59us/step - loss: 0.0530 - acc: 0.9919\n",
      "Epoch 89/100\n",
      "124/124 [==============================] - 0s 64us/step - loss: 0.0517 - acc: 0.9919\n",
      "Epoch 90/100\n",
      "124/124 [==============================] - 0s 58us/step - loss: 0.0511 - acc: 0.9919\n",
      "Epoch 91/100\n",
      "124/124 [==============================] - 0s 67us/step - loss: 0.0503 - acc: 0.9919\n",
      "Epoch 92/100\n",
      "124/124 [==============================] - 0s 60us/step - loss: 0.0492 - acc: 0.9919\n",
      "Epoch 93/100\n",
      "124/124 [==============================] - 0s 60us/step - loss: 0.0481 - acc: 0.9919\n",
      "Epoch 94/100\n",
      "124/124 [==============================] - ETA: 0s - loss: 0.0566 - acc: 1.000 - 0s 58us/step - loss: 0.0479 - acc: 0.9919\n",
      "Epoch 95/100\n",
      "124/124 [==============================] - 0s 60us/step - loss: 0.0466 - acc: 0.9919\n",
      "Epoch 96/100\n",
      "124/124 [==============================] - 0s 61us/step - loss: 0.0454 - acc: 0.9919\n",
      "Epoch 97/100\n",
      "124/124 [==============================] - 0s 71us/step - loss: 0.0453 - acc: 0.9919\n",
      "Epoch 98/100\n",
      "124/124 [==============================] - 0s 61us/step - loss: 0.0445 - acc: 0.9919\n",
      "Epoch 99/100\n",
      "124/124 [==============================] - 0s 72us/step - loss: 0.0431 - acc: 0.9919\n",
      "Epoch 100/100\n",
      "124/124 [==============================] - 0s 80us/step - loss: 0.0422 - acc: 0.9919\n"
     ]
    },
    {
     "data": {
      "text/plain": [
       "<tensorflow.python.keras._impl.keras.callbacks.History at 0x1a1ca04898>"
      ]
     },
     "execution_count": 16,
     "metadata": {},
     "output_type": "execute_result"
    }
   ],
   "source": [
    "dnn_keras_model.fit(X_train_scaled, y_train, epochs=100)"
   ]
  },
  {
   "cell_type": "code",
   "execution_count": 17,
   "metadata": {},
   "outputs": [],
   "source": [
    "predictions = dnn_keras_model.predict_classes(X_test_scaled)"
   ]
  },
  {
   "cell_type": "code",
   "execution_count": 18,
   "metadata": {},
   "outputs": [],
   "source": [
    "from sklearn.metrics import confusion_matrix, classification_report"
   ]
  },
  {
   "cell_type": "code",
   "execution_count": 19,
   "metadata": {},
   "outputs": [
    {
     "name": "stdout",
     "output_type": "stream",
     "text": [
      "             precision    recall  f1-score   support\n",
      "\n",
      "          0       1.00      1.00      1.00        19\n",
      "          1       1.00      1.00      1.00        22\n",
      "          2       1.00      1.00      1.00        13\n",
      "\n",
      "avg / total       1.00      1.00      1.00        54\n",
      "\n",
      "\n",
      "\n",
      "[[19  0  0]\n",
      " [ 0 22  0]\n",
      " [ 0  0 13]]\n"
     ]
    }
   ],
   "source": [
    "print(classification_report(y_test, predictions))\n",
    "print(\"\\n\")\n",
    "print(confusion_matrix(y_test, predictions))"
   ]
  },
  {
   "cell_type": "code",
   "execution_count": null,
   "metadata": {},
   "outputs": [],
   "source": []
  }
 ],
 "metadata": {
  "kernelspec": {
   "display_name": "Python 3",
   "language": "python",
   "name": "python3"
  },
  "language_info": {
   "codemirror_mode": {
    "name": "ipython",
    "version": 3
   },
   "file_extension": ".py",
   "mimetype": "text/x-python",
   "name": "python",
   "nbconvert_exporter": "python",
   "pygments_lexer": "ipython3",
   "version": "3.6.5"
  }
 },
 "nbformat": 4,
 "nbformat_minor": 2
}
